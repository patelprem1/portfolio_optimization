{
 "cells": [
  {
   "cell_type": "code",
   "execution_count": 1,
   "id": "0d1a83d7-0384-4d91-8c9a-ce6c85ec23d9",
   "metadata": {
    "tags": []
   },
   "outputs": [
    {
     "name": "stdout",
     "output_type": "stream",
     "text": [
      "Requirement already satisfied: yfinance in ./anaconda3/lib/python3.11/site-packages (0.2.36)\n",
      "Requirement already satisfied: pandas>=1.3.0 in ./anaconda3/lib/python3.11/site-packages (from yfinance) (2.0.3)\n",
      "Requirement already satisfied: numpy>=1.16.5 in ./anaconda3/lib/python3.11/site-packages (from yfinance) (1.24.3)\n",
      "Requirement already satisfied: requests>=2.31 in ./anaconda3/lib/python3.11/site-packages (from yfinance) (2.31.0)\n",
      "Requirement already satisfied: multitasking>=0.0.7 in ./anaconda3/lib/python3.11/site-packages (from yfinance) (0.0.11)\n",
      "Requirement already satisfied: lxml>=4.9.1 in ./anaconda3/lib/python3.11/site-packages (from yfinance) (4.9.3)\n",
      "Requirement already satisfied: appdirs>=1.4.4 in ./anaconda3/lib/python3.11/site-packages (from yfinance) (1.4.4)\n",
      "Requirement already satisfied: pytz>=2022.5 in ./anaconda3/lib/python3.11/site-packages (from yfinance) (2023.3.post1)\n",
      "Requirement already satisfied: frozendict>=2.3.4 in ./anaconda3/lib/python3.11/site-packages (from yfinance) (2.4.0)\n",
      "Requirement already satisfied: peewee>=3.16.2 in ./anaconda3/lib/python3.11/site-packages (from yfinance) (3.17.1)\n",
      "Requirement already satisfied: beautifulsoup4>=4.11.1 in ./anaconda3/lib/python3.11/site-packages (from yfinance) (4.12.2)\n",
      "Requirement already satisfied: html5lib>=1.1 in ./anaconda3/lib/python3.11/site-packages (from yfinance) (1.1)\n",
      "Requirement already satisfied: soupsieve>1.2 in ./anaconda3/lib/python3.11/site-packages (from beautifulsoup4>=4.11.1->yfinance) (2.4)\n",
      "Requirement already satisfied: six>=1.9 in ./anaconda3/lib/python3.11/site-packages (from html5lib>=1.1->yfinance) (1.16.0)\n",
      "Requirement already satisfied: webencodings in ./anaconda3/lib/python3.11/site-packages (from html5lib>=1.1->yfinance) (0.5.1)\n",
      "Requirement already satisfied: python-dateutil>=2.8.2 in ./anaconda3/lib/python3.11/site-packages (from pandas>=1.3.0->yfinance) (2.8.2)\n",
      "Requirement already satisfied: tzdata>=2022.1 in ./anaconda3/lib/python3.11/site-packages (from pandas>=1.3.0->yfinance) (2023.3)\n",
      "Requirement already satisfied: charset-normalizer<4,>=2 in ./anaconda3/lib/python3.11/site-packages (from requests>=2.31->yfinance) (2.0.4)\n",
      "Requirement already satisfied: idna<4,>=2.5 in ./anaconda3/lib/python3.11/site-packages (from requests>=2.31->yfinance) (3.4)\n",
      "Requirement already satisfied: urllib3<3,>=1.21.1 in ./anaconda3/lib/python3.11/site-packages (from requests>=2.31->yfinance) (1.26.16)\n",
      "Requirement already satisfied: certifi>=2017.4.17 in ./anaconda3/lib/python3.11/site-packages (from requests>=2.31->yfinance) (2023.7.22)\n",
      "Note: you may need to restart the kernel to use updated packages.\n"
     ]
    }
   ],
   "source": [
    "pip install yfinance"
   ]
  },
  {
   "cell_type": "code",
   "execution_count": 2,
   "id": "2a2fcb05-d176-44a1-9ae7-f7239dd67273",
   "metadata": {
    "tags": []
   },
   "outputs": [
    {
     "name": "stderr",
     "output_type": "stream",
     "text": [
      "[*********************100%%**********************]  6 of 6 completed"
     ]
    },
    {
     "name": "stdout",
     "output_type": "stream",
     "text": [
      "Ticker            AAPL        AMZN         AXP      GOOGL         IBM  \\\n",
      "Date                                                                    \n",
      "2021-01-04  127.002083  159.331497  113.141541  86.306503  101.472191   \n",
      "2021-01-05  128.572342  160.925507  113.745392  87.002502  103.273384   \n",
      "2021-01-06  124.244377  156.919006  117.953201  86.143997  105.852333   \n",
      "2021-01-07  128.483994  158.108002  117.020203  88.717003  105.606735   \n",
      "2021-01-08  129.592987  159.134995  117.135628  89.891502  105.230118   \n",
      "\n",
      "Ticker             NKE  \n",
      "Date                    \n",
      "2021-01-04  135.820663  \n",
      "2021-01-05  136.916153  \n",
      "2021-01-06  138.001938  \n",
      "2021-01-07  140.522491  \n",
      "2021-01-08  141.879761  \n"
     ]
    },
    {
     "name": "stderr",
     "output_type": "stream",
     "text": [
      "\n"
     ]
    }
   ],
   "source": [
    "start_date = '2021-01-01'\n",
    "end_date = '2023-01-01'\n",
    "import pandas as pd\n",
    "tickers_list = ['AAPL', 'NKE', 'IBM', 'GOOGL','AXP','AMZN']\n",
    "\n",
    "# Fetch the data\n",
    "import yfinance as yf\n",
    "data = yf.download(tickers_list,start_date,end_date)['Adj Close']\n",
    "\n",
    "# Print first 5 rows of the data\n",
    "print(data.head())\n",
    "     "
   ]
  },
  {
   "cell_type": "code",
   "execution_count": 3,
   "id": "f9c3b406-200e-44f6-90b9-d22f44abf714",
   "metadata": {
    "tags": []
   },
   "outputs": [
    {
     "data": {
      "text/html": [
       "<div>\n",
       "<style scoped>\n",
       "    .dataframe tbody tr th:only-of-type {\n",
       "        vertical-align: middle;\n",
       "    }\n",
       "\n",
       "    .dataframe tbody tr th {\n",
       "        vertical-align: top;\n",
       "    }\n",
       "\n",
       "    .dataframe thead th {\n",
       "        text-align: right;\n",
       "    }\n",
       "</style>\n",
       "<table border=\"1\" class=\"dataframe\">\n",
       "  <thead>\n",
       "    <tr style=\"text-align: right;\">\n",
       "      <th>Ticker</th>\n",
       "      <th>AAPL</th>\n",
       "      <th>AMZN</th>\n",
       "      <th>AXP</th>\n",
       "      <th>GOOGL</th>\n",
       "      <th>IBM</th>\n",
       "      <th>NKE</th>\n",
       "    </tr>\n",
       "    <tr>\n",
       "      <th>Date</th>\n",
       "      <th></th>\n",
       "      <th></th>\n",
       "      <th></th>\n",
       "      <th></th>\n",
       "      <th></th>\n",
       "      <th></th>\n",
       "    </tr>\n",
       "  </thead>\n",
       "  <tbody>\n",
       "    <tr>\n",
       "      <th>2021-01-04</th>\n",
       "      <td>127.002083</td>\n",
       "      <td>159.331497</td>\n",
       "      <td>113.141541</td>\n",
       "      <td>86.306503</td>\n",
       "      <td>101.472191</td>\n",
       "      <td>135.820663</td>\n",
       "    </tr>\n",
       "    <tr>\n",
       "      <th>2021-01-05</th>\n",
       "      <td>128.572342</td>\n",
       "      <td>160.925507</td>\n",
       "      <td>113.745392</td>\n",
       "      <td>87.002502</td>\n",
       "      <td>103.273384</td>\n",
       "      <td>136.916153</td>\n",
       "    </tr>\n",
       "    <tr>\n",
       "      <th>2021-01-06</th>\n",
       "      <td>124.244377</td>\n",
       "      <td>156.919006</td>\n",
       "      <td>117.953201</td>\n",
       "      <td>86.143997</td>\n",
       "      <td>105.852333</td>\n",
       "      <td>138.001938</td>\n",
       "    </tr>\n",
       "    <tr>\n",
       "      <th>2021-01-07</th>\n",
       "      <td>128.483994</td>\n",
       "      <td>158.108002</td>\n",
       "      <td>117.020203</td>\n",
       "      <td>88.717003</td>\n",
       "      <td>105.606735</td>\n",
       "      <td>140.522491</td>\n",
       "    </tr>\n",
       "    <tr>\n",
       "      <th>2021-01-08</th>\n",
       "      <td>129.592987</td>\n",
       "      <td>159.134995</td>\n",
       "      <td>117.135628</td>\n",
       "      <td>89.891502</td>\n",
       "      <td>105.230118</td>\n",
       "      <td>141.879761</td>\n",
       "    </tr>\n",
       "    <tr>\n",
       "      <th>...</th>\n",
       "      <td>...</td>\n",
       "      <td>...</td>\n",
       "      <td>...</td>\n",
       "      <td>...</td>\n",
       "      <td>...</td>\n",
       "      <td>...</td>\n",
       "    </tr>\n",
       "    <tr>\n",
       "      <th>2022-12-23</th>\n",
       "      <td>130.959946</td>\n",
       "      <td>85.250000</td>\n",
       "      <td>144.410751</td>\n",
       "      <td>89.230003</td>\n",
       "      <td>133.728607</td>\n",
       "      <td>114.766541</td>\n",
       "    </tr>\n",
       "    <tr>\n",
       "      <th>2022-12-27</th>\n",
       "      <td>129.142456</td>\n",
       "      <td>83.040001</td>\n",
       "      <td>143.791931</td>\n",
       "      <td>87.389999</td>\n",
       "      <td>134.455536</td>\n",
       "      <td>116.059814</td>\n",
       "    </tr>\n",
       "    <tr>\n",
       "      <th>2022-12-28</th>\n",
       "      <td>125.179672</td>\n",
       "      <td>81.820000</td>\n",
       "      <td>141.454163</td>\n",
       "      <td>86.019997</td>\n",
       "      <td>132.189774</td>\n",
       "      <td>113.512749</td>\n",
       "    </tr>\n",
       "    <tr>\n",
       "      <th>2022-12-29</th>\n",
       "      <td>128.725296</td>\n",
       "      <td>84.180000</td>\n",
       "      <td>144.705399</td>\n",
       "      <td>88.449997</td>\n",
       "      <td>133.171585</td>\n",
       "      <td>115.852501</td>\n",
       "    </tr>\n",
       "    <tr>\n",
       "      <th>2022-12-30</th>\n",
       "      <td>129.043137</td>\n",
       "      <td>84.000000</td>\n",
       "      <td>145.127777</td>\n",
       "      <td>88.230003</td>\n",
       "      <td>133.011108</td>\n",
       "      <td>115.516838</td>\n",
       "    </tr>\n",
       "  </tbody>\n",
       "</table>\n",
       "<p>503 rows × 6 columns</p>\n",
       "</div>"
      ],
      "text/plain": [
       "Ticker            AAPL        AMZN         AXP      GOOGL         IBM  \\\n",
       "Date                                                                    \n",
       "2021-01-04  127.002083  159.331497  113.141541  86.306503  101.472191   \n",
       "2021-01-05  128.572342  160.925507  113.745392  87.002502  103.273384   \n",
       "2021-01-06  124.244377  156.919006  117.953201  86.143997  105.852333   \n",
       "2021-01-07  128.483994  158.108002  117.020203  88.717003  105.606735   \n",
       "2021-01-08  129.592987  159.134995  117.135628  89.891502  105.230118   \n",
       "...                ...         ...         ...        ...         ...   \n",
       "2022-12-23  130.959946   85.250000  144.410751  89.230003  133.728607   \n",
       "2022-12-27  129.142456   83.040001  143.791931  87.389999  134.455536   \n",
       "2022-12-28  125.179672   81.820000  141.454163  86.019997  132.189774   \n",
       "2022-12-29  128.725296   84.180000  144.705399  88.449997  133.171585   \n",
       "2022-12-30  129.043137   84.000000  145.127777  88.230003  133.011108   \n",
       "\n",
       "Ticker             NKE  \n",
       "Date                    \n",
       "2021-01-04  135.820663  \n",
       "2021-01-05  136.916153  \n",
       "2021-01-06  138.001938  \n",
       "2021-01-07  140.522491  \n",
       "2021-01-08  141.879761  \n",
       "...                ...  \n",
       "2022-12-23  114.766541  \n",
       "2022-12-27  116.059814  \n",
       "2022-12-28  113.512749  \n",
       "2022-12-29  115.852501  \n",
       "2022-12-30  115.516838  \n",
       "\n",
       "[503 rows x 6 columns]"
      ]
     },
     "execution_count": 3,
     "metadata": {},
     "output_type": "execute_result"
    }
   ],
   "source": [
    "data"
   ]
  },
  {
   "cell_type": "code",
   "execution_count": 5,
   "id": "41e8fdde-8161-428f-983f-db74d651e236",
   "metadata": {
    "tags": []
   },
   "outputs": [],
   "source": [
    "#We are having 5 shares of Apple,Amazon,American Express,Google,IBM,Nike as our portfolio which we would look to optimize using Modern Portfolio Theory"
   ]
  },
  {
   "cell_type": "code",
   "execution_count": 6,
   "id": "83a2551d-20e2-4ef9-9bba-04fd3696d223",
   "metadata": {
    "tags": []
   },
   "outputs": [
    {
     "data": {
      "text/html": [
       "<div>\n",
       "<style scoped>\n",
       "    .dataframe tbody tr th:only-of-type {\n",
       "        vertical-align: middle;\n",
       "    }\n",
       "\n",
       "    .dataframe tbody tr th {\n",
       "        vertical-align: top;\n",
       "    }\n",
       "\n",
       "    .dataframe thead th {\n",
       "        text-align: right;\n",
       "    }\n",
       "</style>\n",
       "<table border=\"1\" class=\"dataframe\">\n",
       "  <thead>\n",
       "    <tr style=\"text-align: right;\">\n",
       "      <th>Ticker</th>\n",
       "      <th>AAPL</th>\n",
       "      <th>AMZN</th>\n",
       "      <th>AXP</th>\n",
       "      <th>GOOGL</th>\n",
       "      <th>IBM</th>\n",
       "      <th>NKE</th>\n",
       "    </tr>\n",
       "    <tr>\n",
       "      <th>Date</th>\n",
       "      <th></th>\n",
       "      <th></th>\n",
       "      <th></th>\n",
       "      <th></th>\n",
       "      <th></th>\n",
       "      <th></th>\n",
       "    </tr>\n",
       "  </thead>\n",
       "  <tbody>\n",
       "    <tr>\n",
       "      <th>2021-01-04</th>\n",
       "      <td>NaN</td>\n",
       "      <td>NaN</td>\n",
       "      <td>NaN</td>\n",
       "      <td>NaN</td>\n",
       "      <td>NaN</td>\n",
       "      <td>NaN</td>\n",
       "    </tr>\n",
       "    <tr>\n",
       "      <th>2021-01-05</th>\n",
       "      <td>0.012364</td>\n",
       "      <td>0.010004</td>\n",
       "      <td>0.005337</td>\n",
       "      <td>0.008064</td>\n",
       "      <td>0.017751</td>\n",
       "      <td>0.008066</td>\n",
       "    </tr>\n",
       "    <tr>\n",
       "      <th>2021-01-06</th>\n",
       "      <td>-0.033662</td>\n",
       "      <td>-0.024897</td>\n",
       "      <td>0.036993</td>\n",
       "      <td>-0.009868</td>\n",
       "      <td>0.024972</td>\n",
       "      <td>0.007930</td>\n",
       "    </tr>\n",
       "    <tr>\n",
       "      <th>2021-01-07</th>\n",
       "      <td>0.034123</td>\n",
       "      <td>0.007577</td>\n",
       "      <td>-0.007910</td>\n",
       "      <td>0.029869</td>\n",
       "      <td>-0.002320</td>\n",
       "      <td>0.018265</td>\n",
       "    </tr>\n",
       "    <tr>\n",
       "      <th>2021-01-08</th>\n",
       "      <td>0.008631</td>\n",
       "      <td>0.006496</td>\n",
       "      <td>0.000986</td>\n",
       "      <td>0.013239</td>\n",
       "      <td>-0.003566</td>\n",
       "      <td>0.009659</td>\n",
       "    </tr>\n",
       "  </tbody>\n",
       "</table>\n",
       "</div>"
      ],
      "text/plain": [
       "Ticker          AAPL      AMZN       AXP     GOOGL       IBM       NKE\n",
       "Date                                                                  \n",
       "2021-01-04       NaN       NaN       NaN       NaN       NaN       NaN\n",
       "2021-01-05  0.012364  0.010004  0.005337  0.008064  0.017751  0.008066\n",
       "2021-01-06 -0.033662 -0.024897  0.036993 -0.009868  0.024972  0.007930\n",
       "2021-01-07  0.034123  0.007577 -0.007910  0.029869 -0.002320  0.018265\n",
       "2021-01-08  0.008631  0.006496  0.000986  0.013239 -0.003566  0.009659"
      ]
     },
     "execution_count": 6,
     "metadata": {},
     "output_type": "execute_result"
    }
   ],
   "source": [
    "returns=data.pct_change()\n",
    "returns.head()"
   ]
  },
  {
   "cell_type": "markdown",
   "id": "f6982796-f27a-44fa-9ae8-ef196dfd7f92",
   "metadata": {
    "tags": []
   },
   "source": [
    ".pct_change helps us to know how that stock moved with respect to the last day by giving us the percentage change.The first column is NAN because we have no column to compare the first column with\n",
    "returns of a company is the gain/loss of the portfolio during a particular time frame.We took the timeframe one day with respect to our case\n",
    "we can see in the head that stocks with negative pct_change fell down in value when they closed on the subsequent day and the positive pct_change signifies that the stocks went up in the value when they closed"
   ]
  },
  {
   "cell_type": "code",
   "execution_count": 8,
   "id": "ebe8bf11-5381-4f45-a96f-61035a8cfbcb",
   "metadata": {
    "tags": []
   },
   "outputs": [
    {
     "data": {
      "text/plain": [
       "Date\n",
       "2021-01-04         NaN\n",
       "2021-01-05    0.009132\n",
       "2021-01-06    0.004646\n",
       "2021-01-07    0.011469\n",
       "2021-01-08    0.005495\n",
       "dtype: float64"
      ]
     },
     "execution_count": 8,
     "metadata": {},
     "output_type": "execute_result"
    }
   ],
   "source": [
    "weights_of_portfolio=[0.2,0.1,0.35,0.2,0.1,0.05]\n",
    "return_portfolio=returns.dot(weights_of_portfolio)\n",
    "return_portfolio.head()"
   ]
  },
  {
   "cell_type": "markdown",
   "id": "98163197-4490-4aaa-9fd1-3ad591761f5c",
   "metadata": {
    "tags": []
   },
   "source": [
    "We will now assign random weights to different assets which will be rectified later to get the best stock portfolio\n",
    "return of a portfolio will be return of the assets multiplied the weights given to the particular stock so that we make a balanced portfolio#keep in Mind that weights_of_portfolio should be equal to 1"
   ]
  },
  {
   "cell_type": "code",
   "execution_count": 10,
   "id": "28276f1b-933f-4d20-9205-639c5f296c45",
   "metadata": {
    "tags": []
   },
   "outputs": [],
   "source": [
    "#Risk\n",
    "covariance_portfolio=returns.cov()*252"
   ]
  },
  {
   "cell_type": "markdown",
   "id": "23cc4cff-6bfc-4026-b2f3-898268169eb5",
   "metadata": {
    "tags": []
   },
   "source": [
    "For risk management we will use covariance What is covariance:- Co-Variance of stock signifies that the movement of the stock with respect to another stock.Positive Co-Variance means that the stock will rise if the other stock rises,Negative Co-Variance means that the stock A will decrease if Stock B will rise.\n",
    "for Risk management we will try to get a negative co-variance as to minimize the risk because if one stock will fall down we would have a another stock to rise up so that all of our money wouldn't fall down\n",
    "we Multiplied 252 days as these are number of the days stock would be traded"
   ]
  },
  {
   "cell_type": "code",
   "execution_count": 12,
   "id": "bf3a9a56-181b-47f9-8c54-b6bc1fa3e5cd",
   "metadata": {
    "tags": []
   },
   "outputs": [
    {
     "data": {
      "text/html": [
       "<div>\n",
       "<style scoped>\n",
       "    .dataframe tbody tr th:only-of-type {\n",
       "        vertical-align: middle;\n",
       "    }\n",
       "\n",
       "    .dataframe tbody tr th {\n",
       "        vertical-align: top;\n",
       "    }\n",
       "\n",
       "    .dataframe thead th {\n",
       "        text-align: right;\n",
       "    }\n",
       "</style>\n",
       "<table border=\"1\" class=\"dataframe\">\n",
       "  <thead>\n",
       "    <tr style=\"text-align: right;\">\n",
       "      <th>Ticker</th>\n",
       "      <th>AAPL</th>\n",
       "      <th>AMZN</th>\n",
       "      <th>AXP</th>\n",
       "      <th>GOOGL</th>\n",
       "      <th>IBM</th>\n",
       "      <th>NKE</th>\n",
       "    </tr>\n",
       "    <tr>\n",
       "      <th>Ticker</th>\n",
       "      <th></th>\n",
       "      <th></th>\n",
       "      <th></th>\n",
       "      <th></th>\n",
       "      <th></th>\n",
       "      <th></th>\n",
       "    </tr>\n",
       "  </thead>\n",
       "  <tbody>\n",
       "    <tr>\n",
       "      <th>AAPL</th>\n",
       "      <td>0.095168</td>\n",
       "      <td>0.080253</td>\n",
       "      <td>0.045524</td>\n",
       "      <td>0.072072</td>\n",
       "      <td>0.022504</td>\n",
       "      <td>0.060477</td>\n",
       "    </tr>\n",
       "    <tr>\n",
       "      <th>AMZN</th>\n",
       "      <td>0.080253</td>\n",
       "      <td>0.154381</td>\n",
       "      <td>0.055094</td>\n",
       "      <td>0.087420</td>\n",
       "      <td>0.018549</td>\n",
       "      <td>0.074891</td>\n",
       "    </tr>\n",
       "    <tr>\n",
       "      <th>AXP</th>\n",
       "      <td>0.045524</td>\n",
       "      <td>0.055094</td>\n",
       "      <td>0.102348</td>\n",
       "      <td>0.049723</td>\n",
       "      <td>0.030041</td>\n",
       "      <td>0.054607</td>\n",
       "    </tr>\n",
       "    <tr>\n",
       "      <th>GOOGL</th>\n",
       "      <td>0.072072</td>\n",
       "      <td>0.087420</td>\n",
       "      <td>0.049723</td>\n",
       "      <td>0.104966</td>\n",
       "      <td>0.019609</td>\n",
       "      <td>0.061894</td>\n",
       "    </tr>\n",
       "    <tr>\n",
       "      <th>IBM</th>\n",
       "      <td>0.022504</td>\n",
       "      <td>0.018549</td>\n",
       "      <td>0.030041</td>\n",
       "      <td>0.019609</td>\n",
       "      <td>0.054491</td>\n",
       "      <td>0.023226</td>\n",
       "    </tr>\n",
       "    <tr>\n",
       "      <th>NKE</th>\n",
       "      <td>0.060477</td>\n",
       "      <td>0.074891</td>\n",
       "      <td>0.054607</td>\n",
       "      <td>0.061894</td>\n",
       "      <td>0.023226</td>\n",
       "      <td>0.128575</td>\n",
       "    </tr>\n",
       "  </tbody>\n",
       "</table>\n",
       "</div>"
      ],
      "text/plain": [
       "Ticker      AAPL      AMZN       AXP     GOOGL       IBM       NKE\n",
       "Ticker                                                            \n",
       "AAPL    0.095168  0.080253  0.045524  0.072072  0.022504  0.060477\n",
       "AMZN    0.080253  0.154381  0.055094  0.087420  0.018549  0.074891\n",
       "AXP     0.045524  0.055094  0.102348  0.049723  0.030041  0.054607\n",
       "GOOGL   0.072072  0.087420  0.049723  0.104966  0.019609  0.061894\n",
       "IBM     0.022504  0.018549  0.030041  0.019609  0.054491  0.023226\n",
       "NKE     0.060477  0.074891  0.054607  0.061894  0.023226  0.128575"
      ]
     },
     "execution_count": 12,
     "metadata": {},
     "output_type": "execute_result"
    }
   ],
   "source": [
    "covariance_portfolio"
   ]
  },
  {
   "cell_type": "code",
   "execution_count": 13,
   "id": "760b5d40-50c1-4d6a-b573-62d9994b02cf",
   "metadata": {
    "tags": []
   },
   "outputs": [],
   "source": [
    "import numpy as np "
   ]
  },
  {
   "cell_type": "code",
   "execution_count": 14,
   "id": "bce105a9-ee4a-4281-8e9c-5b733d375ae8",
   "metadata": {
    "tags": []
   },
   "outputs": [],
   "source": [
    "portfolio_variance=np.transpose(weights_of_portfolio)@covariance_portfolio@weights_of_portfolio"
   ]
  },
  {
   "cell_type": "markdown",
   "id": "4c4f242c-9ae5-4310-9d7a-0474e96d0bab",
   "metadata": {},
   "source": [
    "The @ symbol signifies the matmul symbol which would signify the matrix multiplication of covariance with their respective weights we multiply it twice so that element of each weight gets covered"
   ]
  },
  {
   "cell_type": "code",
   "execution_count": 15,
   "id": "2b793a9f-7db8-4b90-8c1c-392c31991320",
   "metadata": {
    "tags": []
   },
   "outputs": [],
   "source": [
    "portfolio_volatility=np.sqrt(portfolio_variance)"
   ]
  },
  {
   "cell_type": "code",
   "execution_count": 16,
   "id": "51f27e98-2561-49e7-a589-e731ccf244de",
   "metadata": {
    "tags": []
   },
   "outputs": [
    {
     "data": {
      "text/plain": [
       "0.24922918577388184"
      ]
     },
     "execution_count": 16,
     "metadata": {},
     "output_type": "execute_result"
    }
   ],
   "source": [
    "portfolio_volatility"
   ]
  },
  {
   "cell_type": "code",
   "execution_count": 17,
   "id": "459b7eda-ac06-469e-a050-4612be21b205",
   "metadata": {
    "tags": []
   },
   "outputs": [],
   "source": [
    "port_returns=[]\n",
    "port_volatility=[]\n",
    "port_weights=[]\n",
    "num_assets=len(data.columns)\n",
    "num_portfolios=10000\n",
    "\n",
    "individual_returns=data.resample('M').last().pct_change().mean()"
   ]
  },
  {
   "cell_type": "code",
   "execution_count": 18,
   "id": "e341a3c8-db2b-4629-a1e4-479182e8f5f5",
   "metadata": {
    "tags": []
   },
   "outputs": [
    {
     "data": {
      "text/plain": [
       "[]"
      ]
     },
     "execution_count": 18,
     "metadata": {},
     "output_type": "execute_result"
    }
   ],
   "source": [
    "port_returns"
   ]
  },
  {
   "cell_type": "markdown",
   "id": "2d498852-83a8-4eff-a8b9-5f5e20c47541",
   "metadata": {},
   "source": [
    "We will use the modern portfolio theory for this use in this we get to know that whenever we have to make a portfolio of a stock we have to maximize the returns for a given stock but if we can not find a maximum value we will look to minimize the risk for a particular stock\n",
    "\n",
    "For Minimizing risk for a particular stock we will find the volatilty with respect to the stock by initializing random weights and we will find the minimum risk for that particular weight"
   ]
  },
  {
   "cell_type": "code",
   "execution_count": 19,
   "id": "f2745fe8-28aa-41fd-b98c-2c9d8ea46aa4",
   "metadata": {
    "tags": []
   },
   "outputs": [
    {
     "data": {
      "text/plain": [
       "Ticker\n",
       "AAPL     0.003270\n",
       "AMZN    -0.022800\n",
       "AXP      0.014873\n",
       "GOOGL    0.001848\n",
       "IBM      0.015867\n",
       "NKE      0.000072\n",
       "dtype: float64"
      ]
     },
     "execution_count": 19,
     "metadata": {},
     "output_type": "execute_result"
    }
   ],
   "source": [
    "individual_returns"
   ]
  },
  {
   "cell_type": "code",
   "execution_count": 20,
   "id": "fa287ecd-aec1-4869-952d-1e84da5952d8",
   "metadata": {
    "tags": []
   },
   "outputs": [
    {
     "data": {
      "text/plain": [
       "6"
      ]
     },
     "execution_count": 20,
     "metadata": {},
     "output_type": "execute_result"
    }
   ],
   "source": [
    "len(individual_returns)"
   ]
  },
  {
   "cell_type": "code",
   "execution_count": 21,
   "id": "ce62842d-a8b7-4e9a-a29b-dacb6e6b5334",
   "metadata": {
    "tags": []
   },
   "outputs": [],
   "source": [
    "for port in range(num_portfolios):\n",
    "  weights=np.random.random(num_assets)\n",
    "  weights=weights/np.sum(weights)\n",
    "  port_weights.append(weights)\n",
    "  returns=np.dot(weights,individual_returns)\n",
    "  port_returns.append(returns)\n",
    "  var=covariance_portfolio.mul(weights,axis=0).mul(weights,axis=1).sum().sum()\n",
    "  var=var*250\n",
    "  sd=np.sqrt(var)\n",
    "  port_volatility.append(sd)"
   ]
  },
  {
   "cell_type": "markdown",
   "id": "ce204968-dcca-4813-89fd-39e1b834a8ce",
   "metadata": {},
   "source": [
    "We will store random weights and then look returns and variance for each weight and store them in a list\n",
    "\n",
    "Now we are using 10000 variables in the dataset so that we can get a overall weights of all combined we can use even more but for this project I am taking 10000 iterations\n",
    "\n",
    "We will multiply the random weights to find the volatility of the stock for that weight and then find the returns from that stock as well to see the risk vs reward ratio to decide the final thing"
   ]
  },
  {
   "cell_type": "code",
   "execution_count": 22,
   "id": "d3475487-d55a-4e8f-8d69-1df2534ece78",
   "metadata": {
    "tags": []
   },
   "outputs": [
    {
     "data": {
      "text/plain": [
       "10000"
      ]
     },
     "execution_count": 22,
     "metadata": {},
     "output_type": "execute_result"
    }
   ],
   "source": [
    "len(port_weights)"
   ]
  },
  {
   "cell_type": "code",
   "execution_count": 23,
   "id": "70496beb-c19f-4a2c-abd4-1d9bc1112f8a",
   "metadata": {
    "tags": []
   },
   "outputs": [
    {
     "data": {
      "text/plain": [
       "10000"
      ]
     },
     "execution_count": 23,
     "metadata": {},
     "output_type": "execute_result"
    }
   ],
   "source": [
    "len(port_returns)"
   ]
  },
  {
   "cell_type": "code",
   "execution_count": 24,
   "id": "22ca8562-9f82-4326-a989-3bb5ba53630a",
   "metadata": {
    "tags": []
   },
   "outputs": [
    {
     "data": {
      "text/plain": [
       "10000"
      ]
     },
     "execution_count": 24,
     "metadata": {},
     "output_type": "execute_result"
    }
   ],
   "source": [
    "len(port_volatility)"
   ]
  },
  {
   "cell_type": "code",
   "execution_count": 25,
   "id": "802efa2c-189b-4024-835c-2b01f2f34cd5",
   "metadata": {
    "tags": []
   },
   "outputs": [],
   "source": [
    "data1={'Volatility':port_volatility,'Returns':port_returns}\n",
    "for counter,symbol in enumerate(data.columns.tolist()):\n",
    "  data1[symbol+'weight']=[w[counter] for w in port_weights]\n",
    "\n",
    "     "
   ]
  },
  {
   "cell_type": "markdown",
   "id": "36cc26a4-94f5-40b4-9314-f43f5cc51034",
   "metadata": {},
   "source": [
    "We will now move forward to make a dataframe of the dataset to find the minimum value and the weight ratio\n",
    "\n",
    "This will be used to find the minimum volatilty for the maximum returns so that we find the portfolio"
   ]
  },
  {
   "cell_type": "code",
   "execution_count": 26,
   "id": "ec65f18d-9f81-496d-b371-320ce29031cd",
   "metadata": {
    "tags": []
   },
   "outputs": [],
   "source": [
    "portfolios=pd.DataFrame(data1)"
   ]
  },
  {
   "cell_type": "code",
   "execution_count": 27,
   "id": "4328d4cf-3a5f-46c4-b68b-9be92e49abac",
   "metadata": {
    "tags": []
   },
   "outputs": [
    {
     "data": {
      "text/html": [
       "<div>\n",
       "<style scoped>\n",
       "    .dataframe tbody tr th:only-of-type {\n",
       "        vertical-align: middle;\n",
       "    }\n",
       "\n",
       "    .dataframe tbody tr th {\n",
       "        vertical-align: top;\n",
       "    }\n",
       "\n",
       "    .dataframe thead th {\n",
       "        text-align: right;\n",
       "    }\n",
       "</style>\n",
       "<table border=\"1\" class=\"dataframe\">\n",
       "  <thead>\n",
       "    <tr style=\"text-align: right;\">\n",
       "      <th></th>\n",
       "      <th>Volatility</th>\n",
       "      <th>Returns</th>\n",
       "      <th>AAPLweight</th>\n",
       "      <th>AMZNweight</th>\n",
       "      <th>AXPweight</th>\n",
       "      <th>GOOGLweight</th>\n",
       "      <th>IBMweight</th>\n",
       "      <th>NKEweight</th>\n",
       "    </tr>\n",
       "  </thead>\n",
       "  <tbody>\n",
       "    <tr>\n",
       "      <th>0</th>\n",
       "      <td>3.816920</td>\n",
       "      <td>0.003982</td>\n",
       "      <td>0.175064</td>\n",
       "      <td>0.078530</td>\n",
       "      <td>0.132852</td>\n",
       "      <td>0.217452</td>\n",
       "      <td>0.176871</td>\n",
       "      <td>0.219231</td>\n",
       "    </tr>\n",
       "    <tr>\n",
       "      <th>1</th>\n",
       "      <td>4.020217</td>\n",
       "      <td>-0.000558</td>\n",
       "      <td>0.122864</td>\n",
       "      <td>0.204742</td>\n",
       "      <td>0.029742</td>\n",
       "      <td>0.197307</td>\n",
       "      <td>0.181641</td>\n",
       "      <td>0.263705</td>\n",
       "    </tr>\n",
       "    <tr>\n",
       "      <th>2</th>\n",
       "      <td>4.291103</td>\n",
       "      <td>-0.000915</td>\n",
       "      <td>0.170637</td>\n",
       "      <td>0.270462</td>\n",
       "      <td>0.269714</td>\n",
       "      <td>0.152339</td>\n",
       "      <td>0.024744</td>\n",
       "      <td>0.112104</td>\n",
       "    </tr>\n",
       "    <tr>\n",
       "      <th>3</th>\n",
       "      <td>3.981512</td>\n",
       "      <td>0.003187</td>\n",
       "      <td>0.005578</td>\n",
       "      <td>0.212663</td>\n",
       "      <td>0.355405</td>\n",
       "      <td>0.222416</td>\n",
       "      <td>0.145979</td>\n",
       "      <td>0.057960</td>\n",
       "    </tr>\n",
       "    <tr>\n",
       "      <th>4</th>\n",
       "      <td>4.146662</td>\n",
       "      <td>0.003311</td>\n",
       "      <td>0.321608</td>\n",
       "      <td>0.143225</td>\n",
       "      <td>0.318101</td>\n",
       "      <td>0.158385</td>\n",
       "      <td>0.031432</td>\n",
       "      <td>0.027250</td>\n",
       "    </tr>\n",
       "    <tr>\n",
       "      <th>...</th>\n",
       "      <td>...</td>\n",
       "      <td>...</td>\n",
       "      <td>...</td>\n",
       "      <td>...</td>\n",
       "      <td>...</td>\n",
       "      <td>...</td>\n",
       "      <td>...</td>\n",
       "      <td>...</td>\n",
       "    </tr>\n",
       "    <tr>\n",
       "      <th>9995</th>\n",
       "      <td>3.679112</td>\n",
       "      <td>0.006212</td>\n",
       "      <td>0.198921</td>\n",
       "      <td>0.045254</td>\n",
       "      <td>0.146685</td>\n",
       "      <td>0.019225</td>\n",
       "      <td>0.274380</td>\n",
       "      <td>0.315535</td>\n",
       "    </tr>\n",
       "    <tr>\n",
       "      <th>9996</th>\n",
       "      <td>4.355007</td>\n",
       "      <td>-0.005685</td>\n",
       "      <td>0.080360</td>\n",
       "      <td>0.413216</td>\n",
       "      <td>0.074887</td>\n",
       "      <td>0.070067</td>\n",
       "      <td>0.139569</td>\n",
       "      <td>0.221901</td>\n",
       "    </tr>\n",
       "    <tr>\n",
       "      <th>9997</th>\n",
       "      <td>4.090788</td>\n",
       "      <td>-0.000133</td>\n",
       "      <td>0.104810</td>\n",
       "      <td>0.224321</td>\n",
       "      <td>0.161005</td>\n",
       "      <td>0.068838</td>\n",
       "      <td>0.132030</td>\n",
       "      <td>0.308996</td>\n",
       "    </tr>\n",
       "    <tr>\n",
       "      <th>9998</th>\n",
       "      <td>3.920160</td>\n",
       "      <td>0.000691</td>\n",
       "      <td>0.195347</td>\n",
       "      <td>0.186089</td>\n",
       "      <td>0.074326</td>\n",
       "      <td>0.139446</td>\n",
       "      <td>0.183755</td>\n",
       "      <td>0.221038</td>\n",
       "    </tr>\n",
       "    <tr>\n",
       "      <th>9999</th>\n",
       "      <td>3.701761</td>\n",
       "      <td>0.004010</td>\n",
       "      <td>0.346256</td>\n",
       "      <td>0.154405</td>\n",
       "      <td>0.149361</td>\n",
       "      <td>0.074672</td>\n",
       "      <td>0.254467</td>\n",
       "      <td>0.020838</td>\n",
       "    </tr>\n",
       "  </tbody>\n",
       "</table>\n",
       "<p>10000 rows × 8 columns</p>\n",
       "</div>"
      ],
      "text/plain": [
       "      Volatility   Returns  AAPLweight  AMZNweight  AXPweight  GOOGLweight  \\\n",
       "0       3.816920  0.003982    0.175064    0.078530   0.132852     0.217452   \n",
       "1       4.020217 -0.000558    0.122864    0.204742   0.029742     0.197307   \n",
       "2       4.291103 -0.000915    0.170637    0.270462   0.269714     0.152339   \n",
       "3       3.981512  0.003187    0.005578    0.212663   0.355405     0.222416   \n",
       "4       4.146662  0.003311    0.321608    0.143225   0.318101     0.158385   \n",
       "...          ...       ...         ...         ...        ...          ...   \n",
       "9995    3.679112  0.006212    0.198921    0.045254   0.146685     0.019225   \n",
       "9996    4.355007 -0.005685    0.080360    0.413216   0.074887     0.070067   \n",
       "9997    4.090788 -0.000133    0.104810    0.224321   0.161005     0.068838   \n",
       "9998    3.920160  0.000691    0.195347    0.186089   0.074326     0.139446   \n",
       "9999    3.701761  0.004010    0.346256    0.154405   0.149361     0.074672   \n",
       "\n",
       "      IBMweight  NKEweight  \n",
       "0      0.176871   0.219231  \n",
       "1      0.181641   0.263705  \n",
       "2      0.024744   0.112104  \n",
       "3      0.145979   0.057960  \n",
       "4      0.031432   0.027250  \n",
       "...         ...        ...  \n",
       "9995   0.274380   0.315535  \n",
       "9996   0.139569   0.221901  \n",
       "9997   0.132030   0.308996  \n",
       "9998   0.183755   0.221038  \n",
       "9999   0.254467   0.020838  \n",
       "\n",
       "[10000 rows x 8 columns]"
      ]
     },
     "execution_count": 27,
     "metadata": {},
     "output_type": "execute_result"
    }
   ],
   "source": [
    "portfolios"
   ]
  },
  {
   "cell_type": "code",
   "execution_count": 28,
   "id": "2e91ea8c-0e28-4e45-8e0c-be8d7bf132cf",
   "metadata": {
    "tags": []
   },
   "outputs": [],
   "source": [
    "minimum_volatility=portfolios.iloc[portfolios['Volatility'].idxmin()]\n",
    "     "
   ]
  },
  {
   "cell_type": "code",
   "execution_count": 29,
   "id": "1bd8db5a-351c-476e-94d8-ad68753937f6",
   "metadata": {
    "tags": []
   },
   "outputs": [
    {
     "data": {
      "text/plain": [
       "Volatility     3.280183\n",
       "Returns        0.011818\n",
       "AAPLweight     0.232041\n",
       "AMZNweight     0.003070\n",
       "AXPweight      0.154022\n",
       "GOOGLweight    0.056817\n",
       "IBMweight      0.550419\n",
       "NKEweight      0.003630\n",
       "Name: 3261, dtype: float64"
      ]
     },
     "execution_count": 29,
     "metadata": {},
     "output_type": "execute_result"
    }
   ],
   "source": [
    "minimum_volatility"
   ]
  },
  {
   "cell_type": "markdown",
   "id": "c5ede143-5a12-4291-89b2-582714236930",
   "metadata": {},
   "source": [
    "This shows us the minimum risk of a portfolio with it's respective returns"
   ]
  },
  {
   "cell_type": "code",
   "execution_count": 30,
   "id": "617c000e-ffda-4a46-b2cb-2a3ea22baf73",
   "metadata": {
    "tags": []
   },
   "outputs": [],
   "source": [
    "rf=0.01\n",
    "sharpe=portfolios.iloc[((portfolios['Returns']-rf)/portfolios['Volatility']).idxmax()]\n",
    "     "
   ]
  },
  {
   "cell_type": "markdown",
   "id": "39b7f4c7-6f54-4abf-97ce-13de817128da",
   "metadata": {},
   "source": [
    "We are finding the sharpe ratio to find the sharpe ratio we would introduce a risk factor which predefined risk factor is the risk exposures which drive the return"
   ]
  },
  {
   "cell_type": "code",
   "execution_count": 31,
   "id": "799836e9-648b-4550-a9fb-8b36b1d9b15b",
   "metadata": {
    "tags": []
   },
   "outputs": [
    {
     "data": {
      "text/plain": [
       "Volatility     3.486635\n",
       "Returns        0.012632\n",
       "AAPLweight     0.108896\n",
       "AMZNweight     0.008581\n",
       "AXPweight      0.387897\n",
       "GOOGLweight    0.026315\n",
       "IBMweight      0.419124\n",
       "NKEweight      0.049187\n",
       "Name: 6404, dtype: float64"
      ]
     },
     "execution_count": 31,
     "metadata": {},
     "output_type": "execute_result"
    }
   ],
   "source": [
    "sharpe"
   ]
  },
  {
   "cell_type": "code",
   "execution_count": null,
   "id": "7d91e947-dee8-4057-b4be-bfee7f9e6123",
   "metadata": {},
   "outputs": [],
   "source": []
  }
 ],
 "metadata": {
  "kernelspec": {
   "display_name": "Python 3 (ipykernel)",
   "language": "python",
   "name": "python3"
  },
  "language_info": {
   "codemirror_mode": {
    "name": "ipython",
    "version": 3
   },
   "file_extension": ".py",
   "mimetype": "text/x-python",
   "name": "python",
   "nbconvert_exporter": "python",
   "pygments_lexer": "ipython3",
   "version": "3.11.5"
  }
 },
 "nbformat": 4,
 "nbformat_minor": 5
}
